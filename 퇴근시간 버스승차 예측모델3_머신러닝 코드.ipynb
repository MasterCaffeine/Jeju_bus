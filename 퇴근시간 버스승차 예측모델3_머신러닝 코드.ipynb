{
 "cells": [
  {
   "cell_type": "code",
   "execution_count": 4,
   "id": "3b80f9f8",
   "metadata": {},
   "outputs": [],
   "source": [
    "library(reticulate)\n",
    "use_python('C:/Users/2106-017/ANACON~1/python.exe') # 아나콘다에 해당 머신러닝(라이트쥐비엠)이 깔려있어야한다!\n",
    "sk = import('sklearn.linear_model')\n",
    "\n",
    "sk.met = import('sklearn.metrics')\n"
   ]
  },
  {
   "cell_type": "code",
   "execution_count": 2,
   "id": "b94e238b",
   "metadata": {},
   "outputs": [
    {
     "name": "stderr",
     "output_type": "stream",
     "text": [
      "\n",
      "다음의 패키지를 부착합니다: 'dplyr'\n",
      "\n",
      "\n",
      "The following objects are masked from 'package:stats':\n",
      "\n",
      "    filter, lag\n",
      "\n",
      "\n",
      "The following objects are masked from 'package:base':\n",
      "\n",
      "    intersect, setdiff, setequal, union\n",
      "\n",
      "\n"
     ]
    }
   ],
   "source": [
    "library(magrittr)\n",
    "library(dplyr)\n",
    "library(rvest)"
   ]
  },
  {
   "cell_type": "code",
   "execution_count": 1,
   "id": "e9547c64",
   "metadata": {},
   "outputs": [],
   "source": [
    "train = read.csv('C:/Users/2106-017/Downloads/229255_bus_riders_at_rush_hour_data/train.csv',fileEncoding='utf-8')\n",
    "test = read.csv('C:/Users/2106-017/Downloads/229255_bus_riders_at_rush_hour_data/test.csv',fileEncoding='utf-8')\n",
    "bts = read.csv('C:/Users/2106-017/Downloads/229255_bus_riders_at_rush_hour_data/bus_bts.csv' ,fileEncoding='utf-8')"
   ]
  },
  {
   "cell_type": "code",
   "execution_count": 5,
   "id": "7f02e044",
   "metadata": {},
   "outputs": [],
   "source": [
    "origin = read.csv('C:/Users/2106-017/Downloads/229255_bus_riders_at_rush_hour_data/test.csv',fileEncoding='utf-8') # id컬럼 붙이기 위해 가져옴"
   ]
  },
  {
   "cell_type": "code",
   "execution_count": 11,
   "id": "6c9e9bb8",
   "metadata": {},
   "outputs": [
    {
     "data": {
      "text/html": [
       "<table>\n",
       "<thead><tr><th scope=col>X.1</th><th scope=col>weekdays</th><th scope=col>X</th><th scope=col>bus_route_id</th><th scope=col>X18.20_ride</th><th scope=col>weekday</th><th scope=col>out</th><th scope=col>ride6_8</th><th scope=col>ride8_10</th><th scope=col>ride10_12</th><th scope=col>off6_8</th><th scope=col>off8_10</th><th scope=col>off10_12</th><th scope=col>latitude</th><th scope=col>longitude</th><th scope=col>on_people</th><th scope=col>off_people</th></tr></thead>\n",
       "<tbody>\n",
       "\t<tr><td>1       </td><td>1       </td><td>1       </td><td>4270000 </td><td> 0      </td><td>0       </td><td>1       </td><td> 1      </td><td> 7      </td><td> 8      </td><td>0       </td><td>0       </td><td>0       </td><td>33.48990</td><td>126.4937</td><td>212558  </td><td>144557  </td></tr>\n",
       "\t<tr><td>2       </td><td>1       </td><td>2       </td><td>4270000 </td><td> 5      </td><td>0       </td><td>1       </td><td> 5      </td><td> 6      </td><td>11      </td><td>0       </td><td>0       </td><td>0       </td><td>33.48944</td><td>126.4851</td><td>212558  </td><td>144557  </td></tr>\n",
       "\t<tr><td>3       </td><td>1       </td><td>3       </td><td>4270000 </td><td> 2      </td><td>0       </td><td>1       </td><td> 2      </td><td> 2      </td><td> 0      </td><td>0       </td><td>0       </td><td>0       </td><td>33.48181</td><td>126.4735</td><td>212558  </td><td>144557  </td></tr>\n",
       "\t<tr><td>4       </td><td>1       </td><td>4       </td><td>4270000 </td><td>53      </td><td>0       </td><td>0       </td><td>17      </td><td>32      </td><td>30      </td><td>0       </td><td>0       </td><td>0       </td><td>33.50577</td><td>126.4925</td><td>212558  </td><td>144557  </td></tr>\n",
       "\t<tr><td>5       </td><td>1       </td><td>5       </td><td>4270000 </td><td> 0      </td><td>0       </td><td>0       </td><td> 0      </td><td> 0      </td><td> 0      </td><td>0       </td><td>1       </td><td>0       </td><td>33.25579</td><td>126.4126</td><td>212558  </td><td>144557  </td></tr>\n",
       "\t<tr><td>6       </td><td>1       </td><td>6       </td><td>4270000 </td><td> 0      </td><td>0       </td><td>0       </td><td> 0      </td><td> 0      </td><td> 1      </td><td>0       </td><td>1       </td><td>1       </td><td>33.25862</td><td>126.4044</td><td>212558  </td><td>144557  </td></tr>\n",
       "</tbody>\n",
       "</table>\n"
      ],
      "text/latex": [
       "\\begin{tabular}{r|lllllllllllllllll}\n",
       " X.1 & weekdays & X & bus\\_route\\_id & X18.20\\_ride & weekday & out & ride6\\_8 & ride8\\_10 & ride10\\_12 & off6\\_8 & off8\\_10 & off10\\_12 & latitude & longitude & on\\_people & off\\_people\\\\\n",
       "\\hline\n",
       "\t 1        & 1        & 1        & 4270000  &  0       & 0        & 1        &  1       &  7       &  8       & 0        & 0        & 0        & 33.48990 & 126.4937 & 212558   & 144557  \\\\\n",
       "\t 2        & 1        & 2        & 4270000  &  5       & 0        & 1        &  5       &  6       & 11       & 0        & 0        & 0        & 33.48944 & 126.4851 & 212558   & 144557  \\\\\n",
       "\t 3        & 1        & 3        & 4270000  &  2       & 0        & 1        &  2       &  2       &  0       & 0        & 0        & 0        & 33.48181 & 126.4735 & 212558   & 144557  \\\\\n",
       "\t 4        & 1        & 4        & 4270000  & 53       & 0        & 0        & 17       & 32       & 30       & 0        & 0        & 0        & 33.50577 & 126.4925 & 212558   & 144557  \\\\\n",
       "\t 5        & 1        & 5        & 4270000  &  0       & 0        & 0        &  0       &  0       &  0       & 0        & 1        & 0        & 33.25579 & 126.4126 & 212558   & 144557  \\\\\n",
       "\t 6        & 1        & 6        & 4270000  &  0       & 0        & 0        &  0       &  0       &  1       & 0        & 1        & 1        & 33.25862 & 126.4044 & 212558   & 144557  \\\\\n",
       "\\end{tabular}\n"
      ],
      "text/markdown": [
       "\n",
       "| X.1 | weekdays | X | bus_route_id | X18.20_ride | weekday | out | ride6_8 | ride8_10 | ride10_12 | off6_8 | off8_10 | off10_12 | latitude | longitude | on_people | off_people |\n",
       "|---|---|---|---|---|---|---|---|---|---|---|---|---|---|---|---|---|\n",
       "| 1        | 1        | 1        | 4270000  |  0       | 0        | 1        |  1       |  7       |  8       | 0        | 0        | 0        | 33.48990 | 126.4937 | 212558   | 144557   |\n",
       "| 2        | 1        | 2        | 4270000  |  5       | 0        | 1        |  5       |  6       | 11       | 0        | 0        | 0        | 33.48944 | 126.4851 | 212558   | 144557   |\n",
       "| 3        | 1        | 3        | 4270000  |  2       | 0        | 1        |  2       |  2       |  0       | 0        | 0        | 0        | 33.48181 | 126.4735 | 212558   | 144557   |\n",
       "| 4        | 1        | 4        | 4270000  | 53       | 0        | 0        | 17       | 32       | 30       | 0        | 0        | 0        | 33.50577 | 126.4925 | 212558   | 144557   |\n",
       "| 5        | 1        | 5        | 4270000  |  0       | 0        | 0        |  0       |  0       |  0       | 0        | 1        | 0        | 33.25579 | 126.4126 | 212558   | 144557   |\n",
       "| 6        | 1        | 6        | 4270000  |  0       | 0        | 0        |  0       |  0       |  1       | 0        | 1        | 1        | 33.25862 | 126.4044 | 212558   | 144557   |\n",
       "\n"
      ],
      "text/plain": [
       "  X.1 weekdays X bus_route_id X18.20_ride weekday out ride6_8 ride8_10\n",
       "1 1   1        1 4270000       0          0       1    1       7      \n",
       "2 2   1        2 4270000       5          0       1    5       6      \n",
       "3 3   1        3 4270000       2          0       1    2       2      \n",
       "4 4   1        4 4270000      53          0       0   17      32      \n",
       "5 5   1        5 4270000       0          0       0    0       0      \n",
       "6 6   1        6 4270000       0          0       0    0       0      \n",
       "  ride10_12 off6_8 off8_10 off10_12 latitude longitude on_people off_people\n",
       "1  8        0      0       0        33.48990 126.4937  212558    144557    \n",
       "2 11        0      0       0        33.48944 126.4851  212558    144557    \n",
       "3  0        0      0       0        33.48181 126.4735  212558    144557    \n",
       "4 30        0      0       0        33.50577 126.4925  212558    144557    \n",
       "5  0        0      1       0        33.25579 126.4126  212558    144557    \n",
       "6  1        0      1       1        33.25862 126.4044  212558    144557    "
      ]
     },
     "metadata": {},
     "output_type": "display_data"
    },
    {
     "data": {
      "text/html": [
       "<table>\n",
       "<thead><tr><th scope=col>X.1</th><th scope=col>weekdays</th><th scope=col>X</th><th scope=col>bus_route_id</th><th scope=col>weekday</th><th scope=col>out</th><th scope=col>ride6_8</th><th scope=col>ride8_10</th><th scope=col>ride10_12</th><th scope=col>off6_8</th><th scope=col>off8_10</th><th scope=col>off10_12</th><th scope=col>latitude</th><th scope=col>longitude</th><th scope=col>on_people</th><th scope=col>off_people</th></tr></thead>\n",
       "<tbody>\n",
       "\t<tr><td>1       </td><td>1       </td><td>170859  </td><td>21480000</td><td>0       </td><td>0       </td><td>0       </td><td>0       </td><td>0       </td><td>0       </td><td>8       </td><td>10      </td><td>33.48963</td><td>126.4860</td><td>212558  </td><td>144557  </td></tr>\n",
       "\t<tr><td>2       </td><td>1       </td><td>170858  </td><td>21480000</td><td>0       </td><td>0       </td><td>0       </td><td>1       </td><td>0       </td><td>0       </td><td>0       </td><td> 3      </td><td>33.49143</td><td>126.4968</td><td>212558  </td><td>144557  </td></tr>\n",
       "\t<tr><td>3       </td><td>1       </td><td>170863  </td><td>21480000</td><td>0       </td><td>0       </td><td>0       </td><td>0       </td><td>2       </td><td>0       </td><td>0       </td><td> 0      </td><td>33.26541</td><td>126.3715</td><td>212558  </td><td>144557  </td></tr>\n",
       "\t<tr><td>4       </td><td>1       </td><td>170829  </td><td>21440000</td><td>0       </td><td>0       </td><td>0       </td><td>3       </td><td>0       </td><td>0       </td><td>2       </td><td> 0      </td><td>33.31044</td><td>126.3410</td><td>212558  </td><td>144557  </td></tr>\n",
       "\t<tr><td>5       </td><td>1       </td><td>170830  </td><td>21440000</td><td>0       </td><td>0       </td><td>0       </td><td>5       </td><td>0       </td><td>0       </td><td>0       </td><td> 0      </td><td>33.29189</td><td>126.2848</td><td>212558  </td><td>144557  </td></tr>\n",
       "\t<tr><td>6       </td><td>1       </td><td>170831  </td><td>21440000</td><td>0       </td><td>0       </td><td>0       </td><td>4       </td><td>0       </td><td>0       </td><td>0       </td><td> 0      </td><td>33.28755</td><td>126.2824</td><td>212558  </td><td>144557  </td></tr>\n",
       "</tbody>\n",
       "</table>\n"
      ],
      "text/latex": [
       "\\begin{tabular}{r|llllllllllllllll}\n",
       " X.1 & weekdays & X & bus\\_route\\_id & weekday & out & ride6\\_8 & ride8\\_10 & ride10\\_12 & off6\\_8 & off8\\_10 & off10\\_12 & latitude & longitude & on\\_people & off\\_people\\\\\n",
       "\\hline\n",
       "\t 1        & 1        & 170859   & 21480000 & 0        & 0        & 0        & 0        & 0        & 0        & 8        & 10       & 33.48963 & 126.4860 & 212558   & 144557  \\\\\n",
       "\t 2        & 1        & 170858   & 21480000 & 0        & 0        & 0        & 1        & 0        & 0        & 0        &  3       & 33.49143 & 126.4968 & 212558   & 144557  \\\\\n",
       "\t 3        & 1        & 170863   & 21480000 & 0        & 0        & 0        & 0        & 2        & 0        & 0        &  0       & 33.26541 & 126.3715 & 212558   & 144557  \\\\\n",
       "\t 4        & 1        & 170829   & 21440000 & 0        & 0        & 0        & 3        & 0        & 0        & 2        &  0       & 33.31044 & 126.3410 & 212558   & 144557  \\\\\n",
       "\t 5        & 1        & 170830   & 21440000 & 0        & 0        & 0        & 5        & 0        & 0        & 0        &  0       & 33.29189 & 126.2848 & 212558   & 144557  \\\\\n",
       "\t 6        & 1        & 170831   & 21440000 & 0        & 0        & 0        & 4        & 0        & 0        & 0        &  0       & 33.28755 & 126.2824 & 212558   & 144557  \\\\\n",
       "\\end{tabular}\n"
      ],
      "text/markdown": [
       "\n",
       "| X.1 | weekdays | X | bus_route_id | weekday | out | ride6_8 | ride8_10 | ride10_12 | off6_8 | off8_10 | off10_12 | latitude | longitude | on_people | off_people |\n",
       "|---|---|---|---|---|---|---|---|---|---|---|---|---|---|---|---|\n",
       "| 1        | 1        | 170859   | 21480000 | 0        | 0        | 0        | 0        | 0        | 0        | 8        | 10       | 33.48963 | 126.4860 | 212558   | 144557   |\n",
       "| 2        | 1        | 170858   | 21480000 | 0        | 0        | 0        | 1        | 0        | 0        | 0        |  3       | 33.49143 | 126.4968 | 212558   | 144557   |\n",
       "| 3        | 1        | 170863   | 21480000 | 0        | 0        | 0        | 0        | 2        | 0        | 0        |  0       | 33.26541 | 126.3715 | 212558   | 144557   |\n",
       "| 4        | 1        | 170829   | 21440000 | 0        | 0        | 0        | 3        | 0        | 0        | 2        |  0       | 33.31044 | 126.3410 | 212558   | 144557   |\n",
       "| 5        | 1        | 170830   | 21440000 | 0        | 0        | 0        | 5        | 0        | 0        | 0        |  0       | 33.29189 | 126.2848 | 212558   | 144557   |\n",
       "| 6        | 1        | 170831   | 21440000 | 0        | 0        | 0        | 4        | 0        | 0        | 0        |  0       | 33.28755 | 126.2824 | 212558   | 144557   |\n",
       "\n"
      ],
      "text/plain": [
       "  X.1 weekdays X      bus_route_id weekday out ride6_8 ride8_10 ride10_12\n",
       "1 1   1        170859 21480000     0       0   0       0        0        \n",
       "2 2   1        170858 21480000     0       0   0       1        0        \n",
       "3 3   1        170863 21480000     0       0   0       0        2        \n",
       "4 4   1        170829 21440000     0       0   0       3        0        \n",
       "5 5   1        170830 21440000     0       0   0       5        0        \n",
       "6 6   1        170831 21440000     0       0   0       4        0        \n",
       "  off6_8 off8_10 off10_12 latitude longitude on_people off_people\n",
       "1 0      8       10       33.48963 126.4860  212558    144557    \n",
       "2 0      0        3       33.49143 126.4968  212558    144557    \n",
       "3 0      0        0       33.26541 126.3715  212558    144557    \n",
       "4 0      2        0       33.31044 126.3410  212558    144557    \n",
       "5 0      0        0       33.29189 126.2848  212558    144557    \n",
       "6 0      0        0       33.28755 126.2824  212558    144557    "
      ]
     },
     "metadata": {},
     "output_type": "display_data"
    },
    {
     "data": {
      "text/html": [
       "<table>\n",
       "<thead><tr><th scope=col>user_card_id</th><th scope=col>bus_route_id</th><th scope=col>vhc_id</th><th scope=col>geton_date</th><th scope=col>geton_time</th><th scope=col>geton_station_code</th><th scope=col>geton_station_name</th><th scope=col>getoff_date</th><th scope=col>getoff_time</th><th scope=col>getoff_station_code</th><th scope=col>getoff_station_name</th><th scope=col>user_category</th><th scope=col>user_count</th></tr></thead>\n",
       "<tbody>\n",
       "\t<tr><td>1.01001e+15                 </td><td>23000000                    </td><td>149793674                   </td><td>2019-09-10                  </td><td>06:34:45                    </td><td> 360                        </td><td>노형오거리                  </td><td>2019-09-10                  </td><td>07:10:31                    </td><td> 592                        </td><td>화북초등학교                </td><td>1                           </td><td>1                           </td></tr>\n",
       "\t<tr><td>1.01001e+15                 </td><td>23000000                    </td><td>149793674                   </td><td>2019-09-10                  </td><td>06:34:58                    </td><td> 360                        </td><td>노형오거리                  </td><td>2019-09-10                  </td><td>06:56:27                    </td><td>3273                        </td><td>고산동산(광양방면)          </td><td>1                           </td><td>1                           </td></tr>\n",
       "\t<tr><td>1.01916e+15                 </td><td>21420000                    </td><td>149793535                   </td><td>2019-09-10                  </td><td>07:19:07                    </td><td>2495                        </td><td>동광환승정류장4(제주방면)   </td><td>2019-09-10                  </td><td>07:40:29                    </td><td> 431                        </td><td>정존마을                    </td><td>4                           </td><td>1                           </td></tr>\n",
       "\t<tr><td>1.01915e+15                 </td><td>21420000                    </td><td>149793512                   </td><td>2019-09-09                  </td><td>09:14:47                    </td><td>3282                        </td><td>대정환승정류장(대정읍사무소)</td><td>2019-09-09                  </td><td>10:02:46                    </td><td> 431                        </td><td>정존마을                    </td><td>1                           </td><td>1                           </td></tr>\n",
       "\t<tr><td>1.01001e+15                 </td><td>21420000                    </td><td>149793512                   </td><td>2019-09-09                  </td><td>09:28:53                    </td><td>2820                        </td><td>삼정지에듀                  </td><td>2019-09-09                  </td><td>10:21:37                    </td><td>2972                        </td><td>제주국제공항(종점)          </td><td>4                           </td><td>1                           </td></tr>\n",
       "\t<tr><td>1.01915e+15                 </td><td>31520000                    </td><td>149793453                   </td><td>2019-09-10                  </td><td>07:54:08                    </td><td> 189                        </td><td>도호동                      </td><td>2019-09-10                  </td><td>08:07:09                    </td><td>3539                        </td><td>탐라도서관                  </td><td>4                           </td><td>1                           </td></tr>\n",
       "</tbody>\n",
       "</table>\n"
      ],
      "text/latex": [
       "\\begin{tabular}{r|lllllllllllll}\n",
       " user\\_card\\_id & bus\\_route\\_id & vhc\\_id & geton\\_date & geton\\_time & geton\\_station\\_code & geton\\_station\\_name & getoff\\_date & getoff\\_time & getoff\\_station\\_code & getoff\\_station\\_name & user\\_category & user\\_count\\\\\n",
       "\\hline\n",
       "\t 1.01001e+15                  & 23000000                     & 149793674                    & 2019-09-10                   & 06:34:45                     &  360                         & 노형오거리                   & 2019-09-10                   & 07:10:31                     &  592                         & 화북초등학교                 & 1                            & 1                           \\\\\n",
       "\t 1.01001e+15                  & 23000000                     & 149793674                    & 2019-09-10                   & 06:34:58                     &  360                         & 노형오거리                   & 2019-09-10                   & 06:56:27                     & 3273                         & 고산동산(광양방면)           & 1                            & 1                           \\\\\n",
       "\t 1.01916e+15                  & 21420000                     & 149793535                    & 2019-09-10                   & 07:19:07                     & 2495                         & 동광환승정류장4(제주방면)    & 2019-09-10                   & 07:40:29                     &  431                         & 정존마을                     & 4                            & 1                           \\\\\n",
       "\t 1.01915e+15                  & 21420000                     & 149793512                    & 2019-09-09                   & 09:14:47                     & 3282                         & 대정환승정류장(대정읍사무소) & 2019-09-09                   & 10:02:46                     &  431                         & 정존마을                     & 1                            & 1                           \\\\\n",
       "\t 1.01001e+15                  & 21420000                     & 149793512                    & 2019-09-09                   & 09:28:53                     & 2820                         & 삼정지에듀                   & 2019-09-09                   & 10:21:37                     & 2972                         & 제주국제공항(종점)           & 4                            & 1                           \\\\\n",
       "\t 1.01915e+15                  & 31520000                     & 149793453                    & 2019-09-10                   & 07:54:08                     &  189                         & 도호동                       & 2019-09-10                   & 08:07:09                     & 3539                         & 탐라도서관                   & 4                            & 1                           \\\\\n",
       "\\end{tabular}\n"
      ],
      "text/markdown": [
       "\n",
       "| user_card_id | bus_route_id | vhc_id | geton_date | geton_time | geton_station_code | geton_station_name | getoff_date | getoff_time | getoff_station_code | getoff_station_name | user_category | user_count |\n",
       "|---|---|---|---|---|---|---|---|---|---|---|---|---|\n",
       "| 1.01001e+15                  | 23000000                     | 149793674                    | 2019-09-10                   | 06:34:45                     |  360                         | 노형오거리                   | 2019-09-10                   | 07:10:31                     |  592                         | 화북초등학교                 | 1                            | 1                            |\n",
       "| 1.01001e+15                  | 23000000                     | 149793674                    | 2019-09-10                   | 06:34:58                     |  360                         | 노형오거리                   | 2019-09-10                   | 06:56:27                     | 3273                         | 고산동산(광양방면)           | 1                            | 1                            |\n",
       "| 1.01916e+15                  | 21420000                     | 149793535                    | 2019-09-10                   | 07:19:07                     | 2495                         | 동광환승정류장4(제주방면)    | 2019-09-10                   | 07:40:29                     |  431                         | 정존마을                     | 4                            | 1                            |\n",
       "| 1.01915e+15                  | 21420000                     | 149793512                    | 2019-09-09                   | 09:14:47                     | 3282                         | 대정환승정류장(대정읍사무소) | 2019-09-09                   | 10:02:46                     |  431                         | 정존마을                     | 1                            | 1                            |\n",
       "| 1.01001e+15                  | 21420000                     | 149793512                    | 2019-09-09                   | 09:28:53                     | 2820                         | 삼정지에듀                   | 2019-09-09                   | 10:21:37                     | 2972                         | 제주국제공항(종점)           | 4                            | 1                            |\n",
       "| 1.01915e+15                  | 31520000                     | 149793453                    | 2019-09-10                   | 07:54:08                     |  189                         | 도호동                       | 2019-09-10                   | 08:07:09                     | 3539                         | 탐라도서관                   | 4                            | 1                            |\n",
       "\n"
      ],
      "text/plain": [
       "  user_card_id bus_route_id vhc_id    geton_date geton_time geton_station_code\n",
       "1 1.01001e+15  23000000     149793674 2019-09-10 06:34:45    360              \n",
       "2 1.01001e+15  23000000     149793674 2019-09-10 06:34:58    360              \n",
       "3 1.01916e+15  21420000     149793535 2019-09-10 07:19:07   2495              \n",
       "4 1.01915e+15  21420000     149793512 2019-09-09 09:14:47   3282              \n",
       "5 1.01001e+15  21420000     149793512 2019-09-09 09:28:53   2820              \n",
       "6 1.01915e+15  31520000     149793453 2019-09-10 07:54:08    189              \n",
       "  geton_station_name           getoff_date getoff_time getoff_station_code\n",
       "1 노형오거리                   2019-09-10  07:10:31     592               \n",
       "2 노형오거리                   2019-09-10  06:56:27    3273               \n",
       "3 동광환승정류장4(제주방면)    2019-09-10  07:40:29     431               \n",
       "4 대정환승정류장(대정읍사무소) 2019-09-09  10:02:46     431               \n",
       "5 삼정지에듀                   2019-09-09  10:21:37    2972               \n",
       "6 도호동                       2019-09-10  08:07:09    3539               \n",
       "  getoff_station_name user_category user_count\n",
       "1 화북초등학교        1             1         \n",
       "2 고산동산(광양방면)  1             1         \n",
       "3 정존마을            4             1         \n",
       "4 정존마을            1             1         \n",
       "5 제주국제공항(종점)  4             1         \n",
       "6 탐라도서관          4             1         "
      ]
     },
     "metadata": {},
     "output_type": "display_data"
    }
   ],
   "source": [
    "head(train)\n",
    "head(test)\n",
    "head(bts)"
   ]
  },
  {
   "cell_type": "code",
   "execution_count": 16,
   "id": "78a77a2b",
   "metadata": {},
   "outputs": [
    {
     "data": {
      "text/html": [
       "<ol class=list-inline>\n",
       "\t<li>'weekdays'</li>\n",
       "\t<li>'X'</li>\n",
       "\t<li>'bus_route_id'</li>\n",
       "\t<li>'X18.20_ride'</li>\n",
       "\t<li>'weekday'</li>\n",
       "\t<li>'out'</li>\n",
       "\t<li>'ride6_8'</li>\n",
       "\t<li>'ride8_10'</li>\n",
       "\t<li>'ride10_12'</li>\n",
       "\t<li>'off6_8'</li>\n",
       "\t<li>'off8_10'</li>\n",
       "\t<li>'off10_12'</li>\n",
       "\t<li>'latitude'</li>\n",
       "\t<li>'longitude'</li>\n",
       "\t<li>'on_people'</li>\n",
       "\t<li>'off_people'</li>\n",
       "</ol>\n"
      ],
      "text/latex": [
       "\\begin{enumerate*}\n",
       "\\item 'weekdays'\n",
       "\\item 'X'\n",
       "\\item 'bus\\_route\\_id'\n",
       "\\item 'X18.20\\_ride'\n",
       "\\item 'weekday'\n",
       "\\item 'out'\n",
       "\\item 'ride6\\_8'\n",
       "\\item 'ride8\\_10'\n",
       "\\item 'ride10\\_12'\n",
       "\\item 'off6\\_8'\n",
       "\\item 'off8\\_10'\n",
       "\\item 'off10\\_12'\n",
       "\\item 'latitude'\n",
       "\\item 'longitude'\n",
       "\\item 'on\\_people'\n",
       "\\item 'off\\_people'\n",
       "\\end{enumerate*}\n"
      ],
      "text/markdown": [
       "1. 'weekdays'\n",
       "2. 'X'\n",
       "3. 'bus_route_id'\n",
       "4. 'X18.20_ride'\n",
       "5. 'weekday'\n",
       "6. 'out'\n",
       "7. 'ride6_8'\n",
       "8. 'ride8_10'\n",
       "9. 'ride10_12'\n",
       "10. 'off6_8'\n",
       "11. 'off8_10'\n",
       "12. 'off10_12'\n",
       "13. 'latitude'\n",
       "14. 'longitude'\n",
       "15. 'on_people'\n",
       "16. 'off_people'\n",
       "\n",
       "\n"
      ],
      "text/plain": [
       " [1] \"weekdays\"     \"X\"            \"bus_route_id\" \"X18.20_ride\"  \"weekday\"     \n",
       " [6] \"out\"          \"ride6_8\"      \"ride8_10\"     \"ride10_12\"    \"off6_8\"      \n",
       "[11] \"off8_10\"      \"off10_12\"     \"latitude\"     \"longitude\"    \"on_people\"   \n",
       "[16] \"off_people\"  "
      ]
     },
     "metadata": {},
     "output_type": "display_data"
    },
    {
     "data": {
      "text/html": [
       "<ol class=list-inline>\n",
       "\t<li>'weekdays'</li>\n",
       "\t<li>'X'</li>\n",
       "\t<li>'bus_route_id'</li>\n",
       "\t<li>'weekday'</li>\n",
       "\t<li>'out'</li>\n",
       "\t<li>'ride6_8'</li>\n",
       "\t<li>'ride8_10'</li>\n",
       "\t<li>'ride10_12'</li>\n",
       "\t<li>'off6_8'</li>\n",
       "\t<li>'off8_10'</li>\n",
       "\t<li>'off10_12'</li>\n",
       "\t<li>'latitude'</li>\n",
       "\t<li>'longitude'</li>\n",
       "\t<li>'on_people'</li>\n",
       "\t<li>'off_people'</li>\n",
       "</ol>\n"
      ],
      "text/latex": [
       "\\begin{enumerate*}\n",
       "\\item 'weekdays'\n",
       "\\item 'X'\n",
       "\\item 'bus\\_route\\_id'\n",
       "\\item 'weekday'\n",
       "\\item 'out'\n",
       "\\item 'ride6\\_8'\n",
       "\\item 'ride8\\_10'\n",
       "\\item 'ride10\\_12'\n",
       "\\item 'off6\\_8'\n",
       "\\item 'off8\\_10'\n",
       "\\item 'off10\\_12'\n",
       "\\item 'latitude'\n",
       "\\item 'longitude'\n",
       "\\item 'on\\_people'\n",
       "\\item 'off\\_people'\n",
       "\\end{enumerate*}\n"
      ],
      "text/markdown": [
       "1. 'weekdays'\n",
       "2. 'X'\n",
       "3. 'bus_route_id'\n",
       "4. 'weekday'\n",
       "5. 'out'\n",
       "6. 'ride6_8'\n",
       "7. 'ride8_10'\n",
       "8. 'ride10_12'\n",
       "9. 'off6_8'\n",
       "10. 'off8_10'\n",
       "11. 'off10_12'\n",
       "12. 'latitude'\n",
       "13. 'longitude'\n",
       "14. 'on_people'\n",
       "15. 'off_people'\n",
       "\n",
       "\n"
      ],
      "text/plain": [
       " [1] \"weekdays\"     \"X\"            \"bus_route_id\" \"weekday\"      \"out\"         \n",
       " [6] \"ride6_8\"      \"ride8_10\"     \"ride10_12\"    \"off6_8\"       \"off8_10\"     \n",
       "[11] \"off10_12\"     \"latitude\"     \"longitude\"    \"on_people\"    \"off_people\"  "
      ]
     },
     "metadata": {},
     "output_type": "display_data"
    }
   ],
   "source": [
    "colnames(train)\n",
    "colnames(test)"
   ]
  },
  {
   "cell_type": "code",
   "execution_count": 17,
   "id": "5f1bd64d",
   "metadata": {},
   "outputs": [
    {
     "data": {
      "text/html": [
       "16"
      ],
      "text/latex": [
       "16"
      ],
      "text/markdown": [
       "16"
      ],
      "text/plain": [
       "[1] 16"
      ]
     },
     "metadata": {},
     "output_type": "display_data"
    },
    {
     "data": {
      "text/html": [
       "15"
      ],
      "text/latex": [
       "15"
      ],
      "text/markdown": [
       "15"
      ],
      "text/plain": [
       "[1] 15"
      ]
     },
     "metadata": {},
     "output_type": "display_data"
    }
   ],
   "source": [
    "length(train)\n",
    "length(test)"
   ]
  },
  {
   "cell_type": "markdown",
   "id": "6e29cd26",
   "metadata": {},
   "source": [
    "# sklearn.linearRegression"
   ]
  },
  {
   "cell_type": "code",
   "execution_count": 5,
   "id": "a4e6db01",
   "metadata": {},
   "outputs": [],
   "source": [
    "# linear_model\n",
    "library(reticulate)\n",
    "use_python('C:/Users/medici/anaconda3/python.exe')\n",
    "sk = import('sklearn.linear_model')\n",
    "\n",
    "sk.met = import('sklearn.metrics')"
   ]
  },
  {
   "cell_type": "code",
   "execution_count": 31,
   "id": "c2ec14e0",
   "metadata": {},
   "outputs": [
    {
     "name": "stdout",
     "output_type": "stream",
     "text": [
      " int [1:415423] 0 5 2 53 0 0 3 0 2 0 ...\n"
     ]
    }
   ],
   "source": [
    "# 데이터 분리\n",
    "x = subset(train,select=-X18.20_ride)\n",
    "y = train$X18.20_ride"
   ]
  },
  {
   "cell_type": "code",
   "execution_count": 33,
   "id": "da6918ec",
   "metadata": {},
   "outputs": [
    {
     "data": {
      "text/plain": [
       "LinearRegression()"
      ]
     },
     "metadata": {},
     "output_type": "display_data"
    }
   ],
   "source": [
    "# 모델형성\n",
    "lr_model = sk$LinearRegression()\n",
    "#모델학습\n",
    "lr_model$fit(x,y)"
   ]
  },
  {
   "cell_type": "code",
   "execution_count": 36,
   "id": "91a9922d",
   "metadata": {},
   "outputs": [],
   "source": [
    "#모델예측\n",
    "lr_pred=lr_model$predict(x) # 모의고사"
   ]
  },
  {
   "cell_type": "code",
   "execution_count": 39,
   "id": "6f06fcc5",
   "metadata": {},
   "outputs": [
    {
     "data": {
      "text/html": [
       "0.439583651865979"
      ],
      "text/latex": [
       "0.439583651865979"
      ],
      "text/markdown": [
       "0.439583651865979"
      ],
      "text/plain": [
       "[1] 0.4395837"
      ]
     },
     "metadata": {},
     "output_type": "display_data"
    },
    {
     "data": {
      "text/html": [
       "3.53514510971363"
      ],
      "text/latex": [
       "3.53514510971363"
      ],
      "text/markdown": [
       "3.53514510971363"
      ],
      "text/plain": [
       "[1] 3.535145"
      ]
     },
     "metadata": {},
     "output_type": "display_data"
    }
   ],
   "source": [
    "#모델평가\n",
    "lr_r = sk.met$r2_score(y, lr_pred)\n",
    "lr_r\n",
    "\n",
    "lr_rmse = sk.met$mean_squared_error(y,lr_pred)^0.5\n",
    "lr_rmse"
   ]
  },
  {
   "cell_type": "code",
   "execution_count": 49,
   "id": "746ff416",
   "metadata": {},
   "outputs": [
    {
     "ename": "ERROR",
     "evalue": "Error in py_get_attr_impl(x, name, silent): AttributeError: 'LinearRegression' object has no attribute 'summary'\n",
     "output_type": "error",
     "traceback": [
      "Error in py_get_attr_impl(x, name, silent): AttributeError: 'LinearRegression' object has no attribute 'summary'\nTraceback:\n",
      "1. lr_model$summary",
      "2. `$.python.builtin.object`(lr_model, summary)",
      "3. py_get_attr_or_item(x, name, TRUE)",
      "4. py_get_attr(x, name)",
      "5. py_get_attr_impl(x, name, silent)"
     ]
    }
   ],
   "source": [
    "lr_model$summary"
   ]
  },
  {
   "cell_type": "markdown",
   "id": "f0135020",
   "metadata": {},
   "source": [
    "# sklearn.logisticRegression"
   ]
  },
  {
   "cell_type": "code",
   "execution_count": 45,
   "id": "884bf0a3",
   "metadata": {},
   "outputs": [
    {
     "data": {
      "text/plain": [
       "LogisticRegression()"
      ]
     },
     "metadata": {},
     "output_type": "display_data"
    }
   ],
   "source": [
    "# 모델형성\n",
    "logistic_model = sk$LogisticRegression()\n",
    "# 모델학습\n",
    "logistic_model$fit(x,y)"
   ]
  },
  {
   "cell_type": "code",
   "execution_count": 51,
   "id": "b0879590",
   "metadata": {},
   "outputs": [],
   "source": [
    "#모델예측\n",
    "logistic_pred=logistic_model$predict(x) # 모의고사"
   ]
  },
  {
   "cell_type": "code",
   "execution_count": 52,
   "id": "671c51a8",
   "metadata": {},
   "outputs": [
    {
     "data": {
      "text/html": [
       "-0.0691840873784924"
      ],
      "text/latex": [
       "-0.0691840873784924"
      ],
      "text/markdown": [
       "-0.0691840873784924"
      ],
      "text/plain": [
       "[1] -0.06918409"
      ]
     },
     "metadata": {},
     "output_type": "display_data"
    },
    {
     "data": {
      "text/html": [
       "4.88290292893241"
      ],
      "text/latex": [
       "4.88290292893241"
      ],
      "text/markdown": [
       "4.88290292893241"
      ],
      "text/plain": [
       "[1] 4.882903"
      ]
     },
     "metadata": {},
     "output_type": "display_data"
    }
   ],
   "source": [
    "#모델평가\n",
    "logistic_r = sk.met$r2_score(y, logistic_pred)\n",
    "logistic_r\n",
    "\n",
    "logistic_rmse = sk.met$mean_squared_error(y,logistic_pred)^0.5\n",
    "logistic_rmse"
   ]
  },
  {
   "cell_type": "code",
   "execution_count": 58,
   "id": "5453ea86",
   "metadata": {},
   "outputs": [],
   "source": [
    "stat = import('statsmodels')"
   ]
  },
  {
   "cell_type": "markdown",
   "id": "cfe2a304",
   "metadata": {},
   "source": [
    "# sklearn.lightgbm"
   ]
  },
  {
   "cell_type": "code",
   "execution_count": 6,
   "id": "d03ffc64",
   "metadata": {},
   "outputs": [],
   "source": [
    "# lightgbm\n",
    "sk1=import('lightgbm')"
   ]
  },
  {
   "cell_type": "code",
   "execution_count": 7,
   "id": "5e9b93dc",
   "metadata": {},
   "outputs": [],
   "source": [
    "# 데이터 분리\n",
    "# 위에 반복되는 코드 : 이해를 위해 붙여넣음\n",
    "# x = subset(train,select=-X18.20_ride)\n",
    "# y = train$X18.20_ride"
   ]
  },
  {
   "cell_type": "code",
   "execution_count": 8,
   "id": "90337ba3",
   "metadata": {},
   "outputs": [
    {
     "data": {
      "text/plain": [
       "LGBMRegressor()"
      ]
     },
     "metadata": {},
     "output_type": "display_data"
    }
   ],
   "source": [
    "# 모델형성\n",
    "lgbm_model = sk1$LGBMRegressor()\n",
    "#모델학습\n",
    "lgbm_model$fit(x,y)"
   ]
  },
  {
   "cell_type": "code",
   "execution_count": 38,
   "id": "12683fa2",
   "metadata": {},
   "outputs": [],
   "source": [
    "#모델예측\n",
    "lgbm_pred=lgbm_model$predict(x)"
   ]
  },
  {
   "cell_type": "code",
   "execution_count": 42,
   "id": "5c19bcbd",
   "metadata": {},
   "outputs": [
    {
     "data": {
      "text/html": [
       "0.727098841488457"
      ],
      "text/latex": [
       "0.727098841488457"
      ],
      "text/markdown": [
       "0.727098841488457"
      ],
      "text/plain": [
       "[1] 0.7270988"
      ]
     },
     "metadata": {},
     "output_type": "display_data"
    },
    {
     "data": {
      "text/html": [
       "2.46691699592661"
      ],
      "text/latex": [
       "2.46691699592661"
      ],
      "text/markdown": [
       "2.46691699592661"
      ],
      "text/plain": [
       "[1] 2.466917"
      ]
     },
     "metadata": {},
     "output_type": "display_data"
    }
   ],
   "source": [
    "#모델평가\n",
    "r = sk.met$r2_score(y, lgbm_pred)\n",
    "r\n",
    "rmse = sk.met$mean_squared_error(y,lgbm_pred)^0.5\n",
    "rmse"
   ]
  },
  {
   "cell_type": "markdown",
   "id": "d2c5dc79",
   "metadata": {},
   "source": [
    "# lm()"
   ]
  },
  {
   "cell_type": "code",
   "execution_count": 64,
   "id": "b720e35f",
   "metadata": {},
   "outputs": [
    {
     "data": {
      "text/plain": [
       "\n",
       "Call:\n",
       "lm(formula = X18.20_ride ~ ., data = train)\n",
       "\n",
       "Coefficients:\n",
       " (Intercept)           X.1      weekdays             X  bus_route_id  \n",
       "   2.744e+01     2.986e-06    -1.878e-01    -6.898e-08    -2.406e-08  \n",
       "     weekday           out       ride6_8      ride8_10     ride10_12  \n",
       "  -3.196e-01    -1.128e-01     1.144e-01     2.358e-01     5.744e-01  \n",
       "      off6_8       off8_10      off10_12      latitude     longitude  \n",
       "   2.358e-01     1.297e-01     5.835e-02     7.501e-01    -3.999e-01  \n",
       "   on_people    off_people  \n",
       "   3.034e-05    -5.328e-05  \n"
      ]
     },
     "metadata": {},
     "output_type": "display_data"
    }
   ],
   "source": [
    "lm_model = lm(X18.20_ride~.,train)\n",
    "lm_model"
   ]
  },
  {
   "cell_type": "code",
   "execution_count": 65,
   "id": "6fdf10c9",
   "metadata": {},
   "outputs": [
    {
     "data": {
      "text/plain": [
       "\n",
       "Call:\n",
       "lm(formula = X18.20_ride ~ ., data = train)\n",
       "\n",
       "Residuals:\n",
       "    Min      1Q  Median      3Q     Max \n",
       "-69.450  -0.641  -0.110   0.219 244.052 \n",
       "\n",
       "Coefficients:\n",
       "               Estimate Std. Error t value Pr(>|t|)    \n",
       "(Intercept)   2.744e+01  5.051e+00   5.432 5.57e-08 ***\n",
       "X.1           2.986e-06  3.332e-07   8.962  < 2e-16 ***\n",
       "weekdays     -1.878e-01  2.077e-02  -9.041  < 2e-16 ***\n",
       "X            -6.898e-08  4.670e-08  -1.477    0.140    \n",
       "bus_route_id -2.406e-08  1.569e-09 -15.340  < 2e-16 ***\n",
       "weekday      -3.196e-01  3.179e-02 -10.055  < 2e-16 ***\n",
       "out          -1.128e-01  4.321e-02  -2.612    0.009 ** \n",
       "ride6_8       1.144e-01  2.391e-03  47.846  < 2e-16 ***\n",
       "ride8_10      2.358e-01  2.137e-03 110.309  < 2e-16 ***\n",
       "ride10_12     5.744e-01  2.303e-03 249.362  < 2e-16 ***\n",
       "off6_8        2.358e-01  4.146e-03  56.866  < 2e-16 ***\n",
       "off8_10       1.297e-01  2.914e-03  44.494  < 2e-16 ***\n",
       "off10_12      5.835e-02  3.037e-03  19.212  < 2e-16 ***\n",
       "latitude      7.501e-01  5.247e-02  14.295  < 2e-16 ***\n",
       "longitude    -3.999e-01  3.940e-02 -10.149  < 2e-16 ***\n",
       "on_people     3.034e-05  3.053e-06   9.937  < 2e-16 ***\n",
       "off_people   -5.328e-05  5.453e-06  -9.770  < 2e-16 ***\n",
       "---\n",
       "Signif. codes:  0 '***' 0.001 '**' 0.01 '*' 0.05 '.' 0.1 ' ' 1\n",
       "\n",
       "Residual standard error: 3.535 on 415406 degrees of freedom\n",
       "Multiple R-squared:  0.4396,\tAdjusted R-squared:  0.4396 \n",
       "F-statistic: 2.036e+04 on 16 and 415406 DF,  p-value: < 2.2e-16\n"
      ]
     },
     "metadata": {},
     "output_type": "display_data"
    }
   ],
   "source": [
    "summary(lm_model)"
   ]
  },
  {
   "cell_type": "code",
   "execution_count": 68,
   "id": "30ec6bb6",
   "metadata": {},
   "outputs": [
    {
     "data": {
      "text/html": [
       "<table>\n",
       "<thead><tr><th></th><th scope=col>ME</th><th scope=col>RMSE</th><th scope=col>MAE</th><th scope=col>MPE</th><th scope=col>MAPE</th><th scope=col>MASE</th></tr></thead>\n",
       "<tbody>\n",
       "\t<tr><th scope=row>Training set</th><td>4.236703e-17</td><td>3.535145    </td><td>1.244063    </td><td>NaN         </td><td>Inf         </td><td>0.6817508   </td></tr>\n",
       "</tbody>\n",
       "</table>\n"
      ],
      "text/latex": [
       "\\begin{tabular}{r|llllll}\n",
       "  & ME & RMSE & MAE & MPE & MAPE & MASE\\\\\n",
       "\\hline\n",
       "\tTraining set & 4.236703e-17 & 3.535145     & 1.244063     & NaN          & Inf          & 0.6817508   \\\\\n",
       "\\end{tabular}\n"
      ],
      "text/markdown": [
       "\n",
       "| <!--/--> | ME | RMSE | MAE | MPE | MAPE | MASE |\n",
       "|---|---|---|---|---|---|---|\n",
       "| Training set | 4.236703e-17 | 3.535145     | 1.244063     | NaN          | Inf          | 0.6817508    |\n",
       "\n"
      ],
      "text/plain": [
       "             ME           RMSE     MAE      MPE MAPE MASE     \n",
       "Training set 4.236703e-17 3.535145 1.244063 NaN Inf  0.6817508"
      ]
     },
     "metadata": {},
     "output_type": "display_data"
    }
   ],
   "source": [
    " library(forecast)\n",
    "accuracy(lm_model)"
   ]
  },
  {
   "cell_type": "markdown",
   "id": "8eede222",
   "metadata": {},
   "source": [
    "# 제출"
   ]
  },
  {
   "cell_type": "code",
   "execution_count": 16,
   "id": "352f5b0a",
   "metadata": {},
   "outputs": [
    {
     "data": {
      "text/html": [
       "<ol class=list-inline>\n",
       "\t<li>0.742228564693613</li>\n",
       "\t<li>0.789039735474033</li>\n",
       "\t<li>0.631687314104223</li>\n",
       "\t<li>0.926121193474315</li>\n",
       "\t<li>1.34986179299391</li>\n",
       "\t<li>0.957611209979269</li>\n",
       "</ol>\n"
      ],
      "text/latex": [
       "\\begin{enumerate*}\n",
       "\\item 0.742228564693613\n",
       "\\item 0.789039735474033\n",
       "\\item 0.631687314104223\n",
       "\\item 0.926121193474315\n",
       "\\item 1.34986179299391\n",
       "\\item 0.957611209979269\n",
       "\\end{enumerate*}\n"
      ],
      "text/markdown": [
       "1. 0.742228564693613\n",
       "2. 0.789039735474033\n",
       "3. 0.631687314104223\n",
       "4. 0.926121193474315\n",
       "5. 1.34986179299391\n",
       "6. 0.957611209979269\n",
       "\n",
       "\n"
      ],
      "text/plain": [
       "[1] 0.7422286 0.7890397 0.6316873 0.9261212 1.3498618 0.9576112"
      ]
     },
     "metadata": {},
     "output_type": "display_data"
    }
   ],
   "source": [
    "submission1 = lgbm_model$predict(test)\n",
    "head(submission1)"
   ]
  },
  {
   "cell_type": "code",
   "execution_count": 19,
   "id": "7a7c5302",
   "metadata": {},
   "outputs": [
    {
     "data": {
      "text/html": [
       "228170"
      ],
      "text/latex": [
       "228170"
      ],
      "text/markdown": [
       "228170"
      ],
      "text/plain": [
       "[1] 228170"
      ]
     },
     "metadata": {},
     "output_type": "display_data"
    }
   ],
   "source": [
    "length(rownames(as.data.frame(submission1)))"
   ]
  },
  {
   "cell_type": "code",
   "execution_count": 22,
   "id": "28ef7c97",
   "metadata": {},
   "outputs": [
    {
     "data": {
      "text/html": [
       "228170"
      ],
      "text/latex": [
       "228170"
      ],
      "text/markdown": [
       "228170"
      ],
      "text/plain": [
       "[1] 228170"
      ]
     },
     "metadata": {},
     "output_type": "display_data"
    }
   ],
   "source": [
    "length(rownames(origin['id']))"
   ]
  },
  {
   "cell_type": "code",
   "execution_count": 24,
   "id": "7cbb7975",
   "metadata": {},
   "outputs": [
    {
     "data": {
      "text/html": [
       "228170"
      ],
      "text/latex": [
       "228170"
      ],
      "text/markdown": [
       "228170"
      ],
      "text/plain": [
       "[1] 228170"
      ]
     },
     "metadata": {},
     "output_type": "display_data"
    },
    {
     "data": {
      "text/html": [
       "'list'"
      ],
      "text/latex": [
       "'list'"
      ],
      "text/markdown": [
       "'list'"
      ],
      "text/plain": [
       "[1] \"list\""
      ]
     },
     "metadata": {},
     "output_type": "display_data"
    }
   ],
   "source": [
    "final = cbind(origin['id'], as.data.frame(submission1) )\n",
    "length(rownames(final))\n",
    "typeof(final)"
   ]
  },
  {
   "cell_type": "code",
   "execution_count": 27,
   "id": "04da120b",
   "metadata": {},
   "outputs": [
    {
     "data": {
      "text/html": [
       "<table>\n",
       "<thead><tr><th scope=col>id</th><th scope=col>18~20_ride</th></tr></thead>\n",
       "<tbody>\n",
       "\t<tr><td>415423   </td><td>0.7422286</td></tr>\n",
       "\t<tr><td>415424   </td><td>0.7890397</td></tr>\n",
       "\t<tr><td>415425   </td><td>0.6316873</td></tr>\n",
       "\t<tr><td>415426   </td><td>0.9261212</td></tr>\n",
       "\t<tr><td>415427   </td><td>1.3498618</td></tr>\n",
       "\t<tr><td>415428   </td><td>0.9576112</td></tr>\n",
       "</tbody>\n",
       "</table>\n"
      ],
      "text/latex": [
       "\\begin{tabular}{r|ll}\n",
       " id & 18\\textasciitilde{}20\\_ride\\\\\n",
       "\\hline\n",
       "\t 415423    & 0.7422286\\\\\n",
       "\t 415424    & 0.7890397\\\\\n",
       "\t 415425    & 0.6316873\\\\\n",
       "\t 415426    & 0.9261212\\\\\n",
       "\t 415427    & 1.3498618\\\\\n",
       "\t 415428    & 0.9576112\\\\\n",
       "\\end{tabular}\n"
      ],
      "text/markdown": [
       "\n",
       "| id | 18~20_ride |\n",
       "|---|---|\n",
       "| 415423    | 0.7422286 |\n",
       "| 415424    | 0.7890397 |\n",
       "| 415425    | 0.6316873 |\n",
       "| 415426    | 0.9261212 |\n",
       "| 415427    | 1.3498618 |\n",
       "| 415428    | 0.9576112 |\n",
       "\n"
      ],
      "text/plain": [
       "  id     18~20_ride\n",
       "1 415423 0.7422286 \n",
       "2 415424 0.7890397 \n",
       "3 415425 0.6316873 \n",
       "4 415426 0.9261212 \n",
       "5 415427 1.3498618 \n",
       "6 415428 0.9576112 "
      ]
     },
     "metadata": {},
     "output_type": "display_data"
    }
   ],
   "source": [
    "final = rename(final, '18~20_ride'='submission1')\n",
    "head(final)"
   ]
  },
  {
   "cell_type": "code",
   "execution_count": 28,
   "id": "f488f7ab",
   "metadata": {},
   "outputs": [],
   "source": [
    "write.csv(final,'submission_2조.csv',row.names=FALSE)"
   ]
  },
  {
   "cell_type": "code",
   "execution_count": null,
   "id": "34915988",
   "metadata": {},
   "outputs": [],
   "source": []
  },
  {
   "cell_type": "code",
   "execution_count": null,
   "id": "e270f217",
   "metadata": {},
   "outputs": [],
   "source": []
  },
  {
   "cell_type": "code",
   "execution_count": null,
   "id": "8b7b362a",
   "metadata": {},
   "outputs": [],
   "source": []
  },
  {
   "cell_type": "code",
   "execution_count": null,
   "id": "412cf690",
   "metadata": {},
   "outputs": [],
   "source": []
  },
  {
   "cell_type": "code",
   "execution_count": null,
   "id": "b439d684",
   "metadata": {},
   "outputs": [],
   "source": []
  },
  {
   "cell_type": "code",
   "execution_count": null,
   "id": "bc07579c",
   "metadata": {},
   "outputs": [],
   "source": []
  },
  {
   "cell_type": "code",
   "execution_count": null,
   "id": "65799500",
   "metadata": {},
   "outputs": [],
   "source": []
  },
  {
   "cell_type": "code",
   "execution_count": null,
   "id": "bce07d88",
   "metadata": {},
   "outputs": [],
   "source": []
  },
  {
   "cell_type": "code",
   "execution_count": null,
   "id": "c468fc6f",
   "metadata": {},
   "outputs": [],
   "source": []
  },
  {
   "cell_type": "code",
   "execution_count": null,
   "id": "1fc6d872",
   "metadata": {},
   "outputs": [],
   "source": []
  },
  {
   "cell_type": "code",
   "execution_count": 147,
   "id": "980b5972",
   "metadata": {},
   "outputs": [],
   "source": []
  },
  {
   "cell_type": "code",
   "execution_count": null,
   "id": "673b3a91",
   "metadata": {},
   "outputs": [],
   "source": []
  },
  {
   "cell_type": "code",
   "execution_count": null,
   "id": "aee1fc25",
   "metadata": {},
   "outputs": [],
   "source": []
  }
 ],
 "metadata": {
  "kernelspec": {
   "display_name": "R",
   "language": "R",
   "name": "ir"
  },
  "language_info": {
   "codemirror_mode": "r",
   "file_extension": ".r",
   "mimetype": "text/x-r-source",
   "name": "R",
   "pygments_lexer": "r",
   "version": "4.1.3"
  }
 },
 "nbformat": 4,
 "nbformat_minor": 5
}
