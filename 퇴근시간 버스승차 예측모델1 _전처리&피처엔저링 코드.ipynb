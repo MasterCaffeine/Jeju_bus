{
 "cells": [
  {
   "cell_type": "markdown",
   "id": "35fc97e3",
   "metadata": {},
   "source": [
    "## 버스의 효율적인 운행를 위해 \n",
    "# 퇴근시간 승차인원을 예측\n",
    "## 하는 모델 개발"
   ]
  },
  {
   "cell_type": "raw",
   "id": "9cc1f337",
   "metadata": {},
   "source": [
    "train.csv\n",
    "\n",
    "id\n",
    "    해당 데이터에서의 고유한 ID(train, test와의 중복은 없음)\n",
    "date\n",
    "    날짜\n",
    "bus_route_id\n",
    "    노선ID\n",
    "in_out\n",
    "    시내버스, 시외버스 구분\n",
    "station_code\n",
    "    해당 승하차 정류소의 ID\n",
    "station_name\n",
    "    해당 승하차 정류소의 이름\n",
    "latitude\n",
    "    해당 버스 정류장의 위도 (같은 정류장 이름이어도 버스의 진행 방향에 따라 다를 수 있음)\n",
    "longitude\n",
    "    해당 버스 정류장의 경도 (같은 정류장 이름이어도 버스의 진행 방향에 따라 다를 수 있음)\n",
    "6~7_ride\n",
    "7~8----\n",
    "    X:00:00부터 X:59:59까지 승차한 인원 수\n",
    "6~7_takeoff\n",
    "7~8----\n",
    "    X:00:00부터 X:59:59까지 하차한 인원 수\n",
    "18~20_ride\n",
    "    18:00:00부터 19:59:59까지 승차한 인원 수 (train data에만 존재)"
   ]
  },
  {
   "cell_type": "raw",
   "id": "81e9b064",
   "metadata": {},
   "source": [
    "bus_bts.csv\n",
    "\n",
    "user_card_id\n",
    "    해당 승객의 버스카드ID\n",
    "bus_route_id\n",
    "    노선ID\n",
    "vhc_id\n",
    "    차량ID\n",
    "geton_date\n",
    "    해당 승객이 탑승한 날짜\n",
    "geton_time\n",
    "    해당 승객이 탑승한 시간\n",
    "geton_statioin_code\n",
    "    승차정류소의 ID\n",
    "geton_station_name\n",
    "    승차정류소의 이름\n",
    "getoff_date\n",
    "    해당 승객이 하차한 날짜 (하차태그 없는 경우, NaN)\n",
    "getoff_time\n",
    "    해당 승객이 하차한 시간 (하차태그 없는 경우, NaN)\n",
    "getoff_station_code\n",
    "    하차정류소의 ID (하차태그 없는 경우, NaN)\n",
    "getoff_station_name\n",
    "    하차정류소의 이름 (하차태그 없는 경우, NaN)\n",
    "user_category\n",
    "    승객 구분 (01-일반, 02-어린이, 04-청소년, 06-경로, 27-장애 일반, 28-장애 동반, 29-유공 일반, 30-유공 동반)\n",
    "user_count\n",
    "    해당 버스카드로 계산한 인원수 ( ex- 3은 3명 분의 버스비를 해당 카드 하나로 계산한 것)\n",
    "    \n",
    "    \n",
    "    \n",
    " test data의 ID와 목표변수인 18시~20시 승차 인원로만\n",
    "  test.csv에서 ID와 예측값을 결합하여, 해당 submission_제출양식.csv 파일형식 처럼 만\n",
    "  해당 제출 파일 양식 그대로(변수명 포함된 상태) 제출"
   ]
  },
  {
   "cell_type": "code",
   "execution_count": 1,
   "id": "e30f4934",
   "metadata": {},
   "outputs": [
    {
     "ename": "ERROR",
     "evalue": "Error in library(\"tidyverse\"): 'tidyverse'이라고 불리는 패키지가 없습니다\n",
     "output_type": "error",
     "traceback": [
      "Error in library(\"tidyverse\"): 'tidyverse'이라고 불리는 패키지가 없습니다\nTraceback:\n",
      "1. library(\"tidyverse\")"
     ]
    }
   ],
   "source": [
    "library('tidyverse')\n",
    "library(lubridate)"
   ]
  },
  {
   "cell_type": "code",
   "execution_count": 2,
   "id": "1a1bafbb",
   "metadata": {},
   "outputs": [
    {
     "name": "stderr",
     "output_type": "stream",
     "text": [
      "\n",
      "다음의 패키지를 부착합니다: 'dplyr'\n",
      "\n",
      "\n",
      "The following objects are masked from 'package:stats':\n",
      "\n",
      "    filter, lag\n",
      "\n",
      "\n",
      "The following objects are masked from 'package:base':\n",
      "\n",
      "    intersect, setdiff, setequal, union\n",
      "\n",
      "\n"
     ]
    }
   ],
   "source": [
    "library(magrittr)\n",
    "library(dplyr)\n",
    "library(rvest)"
   ]
  },
  {
   "cell_type": "code",
   "execution_count": 2,
   "id": "176df00d",
   "metadata": {},
   "outputs": [],
   "source": [
    "# 날짜가 다름 train test\n",
    "# 결측치 없음 train test\n",
    "# target 의 분포도가 한곳으로 치우쳐져 있음 -> scaling?\n",
    "# ID 컬럼을 위치로? : station_code가 unique한 컬럼임.. 일단!"
   ]
  },
  {
   "cell_type": "code",
   "execution_count": 3,
   "id": "a9eebeef",
   "metadata": {},
   "outputs": [],
   "source": [
    "# data engineering 시 train, test 똑같이 변경해줘야함을 잊지말거라\n",
    "train=read.csv('C:/Users/2106-017/Downloads/229255_bus_riders_at_rush_hour_data/train.csv',fileEncoding='utf-8')\n",
    "otrain=read.csv('C:/Users/2106-017/Downloads/229255_bus_riders_at_rush_hour_data/train.csv',fileEncoding='utf-8')\n",
    "\n",
    "test=read.csv('C:/Users/2106-017/Downloads/229255_bus_riders_at_rush_hour_data/test.csv',fileEncoding='utf-8')\n",
    "otest=read.csv('C:/Users/2106-017/Downloads/229255_bus_riders_at_rush_hour_data/test.csv',fileEncoding='utf-8')"
   ]
  },
  {
   "cell_type": "code",
   "execution_count": 4,
   "id": "6bb8c1ed",
   "metadata": {},
   "outputs": [
    {
     "name": "stdout",
     "output_type": "stream",
     "text": [
      "'data.frame':\t415423 obs. of  21 variables:\n",
      " $ id            : int  0 1 2 3 4 5 6 7 8 9 ...\n",
      " $ date          : Factor w/ 30 levels \"2019-09-01\",\"2019-09-02\",..: 1 1 1 1 1 1 1 1 1 1 ...\n",
      " $ bus_route_id  : int  4270000 4270000 4270000 4270000 4270000 4270000 4270000 4270000 4270000 4270000 ...\n",
      " $ in_out        : Factor w/ 2 levels \"시내\",\"시외\": 2 2 2 1 1 1 2 2 2 1 ...\n",
      " $ station_code  : int  344 357 432 1579 1646 1648 1660 1666 1726 2008 ...\n",
      " $ station_name  : Factor w/ 1961 levels \"(구)구판장\",\"(구)중문동주민센터\",..: 1482 1823 1407 1432 1576 1159 1443 1613 41 798 ...\n",
      " $ latitude      : num  33.5 33.5 33.5 33.5 33.3 ...\n",
      " $ longitude     : num  126 126 126 126 126 ...\n",
      " $ X6.7_ride     : num  0 1 1 0 0 0 0 1 0 0 ...\n",
      " $ X7.8_ride     : num  1 4 1 17 0 0 1 0 0 0 ...\n",
      " $ X8.9_ride     : num  2 4 0 6 0 0 0 0 0 0 ...\n",
      " $ X9.10_ride    : num  5 2 2 26 0 0 0 0 0 0 ...\n",
      " $ X10.11_ride   : num  2 5 0 14 0 1 2 0 0 0 ...\n",
      " $ X11.12_ride   : num  6 6 0 16 0 0 0 0 1 0 ...\n",
      " $ X6.7_takeoff  : num  0 0 0 0 0 0 0 0 0 0 ...\n",
      " $ X7.8_takeoff  : num  0 0 0 0 0 0 0 0 0 0 ...\n",
      " $ X8.9_takeoff  : num  0 0 0 0 0 1 0 1 0 0 ...\n",
      " $ X9.10_takeoff : num  0 0 0 0 1 0 0 0 0 2 ...\n",
      " $ X10.11_takeoff: num  0 0 0 0 0 1 1 0 1 0 ...\n",
      " $ X11.12_takeoff: num  0 0 0 0 0 0 5 0 0 2 ...\n",
      " $ X18.20_ride   : num  0 5 2 53 0 0 3 0 2 0 ...\n",
      "\t---------------------------------\n",
      "'data.frame':\t228170 obs. of  20 variables:\n",
      " $ id            : int  415423 415424 415425 415426 415427 415428 415429 415430 415431 415432 ...\n",
      " $ date          : Factor w/ 16 levels \"2019-10-01\",\"2019-10-02\",..: 1 1 1 1 1 1 1 1 1 1 ...\n",
      " $ bus_route_id  : int  4270000 4270000 4270000 4270000 4270000 4270000 4270000 4270000 4270000 4270000 ...\n",
      " $ in_out        : Factor w/ 2 levels \"시내\",\"시외\": 2 2 2 1 1 1 1 2 2 2 ...\n",
      " $ station_code  : int  344 357 432 1579 1636 1646 1648 1660 1662 1666 ...\n",
      " $ station_name  : Factor w/ 1954 levels \"(구)구판장\",\"(구)중문동주민센터\",..: 1479 1818 1403 1428 476 1573 1157 1439 1053 1609 ...\n",
      " $ latitude      : num  33.5 33.5 33.5 33.5 33.2 ...\n",
      " $ longitude     : num  126 126 126 126 126 ...\n",
      " $ X6.7_ride     : num  4 1 2 1 0 0 0 0 0 0 ...\n",
      " $ X7.8_ride     : num  4 6 4 11 0 0 0 0 0 1 ...\n",
      " $ X8.9_ride     : num  7 6 2 18 0 0 1 0 0 0 ...\n",
      " $ X9.10_ride    : num  2 1 2 8 0 0 0 0 0 0 ...\n",
      " $ X10.11_ride   : num  9 8 2 26 0 0 0 0 0 0 ...\n",
      " $ X11.12_ride   : num  1 11 1 20 0 0 0 7 1 2 ...\n",
      " $ X6.7_takeoff  : num  0 0 0 0 0 0 0 0 0 0 ...\n",
      " $ X7.8_takeoff  : num  0 0 0 0 0 0 0 0 0 0 ...\n",
      " $ X8.9_takeoff  : num  0 0 0 0 0 1 0 1 1 0 ...\n",
      " $ X9.10_takeoff : num  0 0 0 0 1 1 0 2 0 0 ...\n",
      " $ X10.11_takeoff: num  0 0 0 0 0 0 0 0 1 0 ...\n",
      " $ X11.12_takeoff: num  1 0 0 0 0 0 0 1 0 1 ...\n"
     ]
    }
   ],
   "source": [
    "str(train)\n",
    "cat('\\t---------------------------------\\n')\n",
    "str(test)"
   ]
  },
  {
   "cell_type": "markdown",
   "id": "e87c1749",
   "metadata": {},
   "source": [
    "# 전처리\n",
    "# Feature Engineering"
   ]
  },
  {
   "cell_type": "markdown",
   "id": "ce3a906b",
   "metadata": {},
   "source": [
    "### 필요없는 컬럼 제거"
   ]
  },
  {
   "cell_type": "code",
   "execution_count": null,
   "id": "83ad01f5",
   "metadata": {},
   "outputs": [],
   "source": [
    "train = subset(train, select=-c(id, station_name, station_code) )\n",
    "test = subset(test, select=-c(id, station_name, station_code) )"
   ]
  },
  {
   "cell_type": "markdown",
   "id": "7b2e9cf0",
   "metadata": {},
   "source": [
    "### 날짜 주말 라벨링"
   ]
  },
  {
   "cell_type": "code",
   "execution_count": 1,
   "id": "e3236938",
   "metadata": {},
   "outputs": [
    {
     "ename": "ERROR",
     "evalue": "Error in as.Date(train$date): 객체 'train'를 찾을 수 없습니다\n",
     "output_type": "error",
     "traceback": [
      "Error in as.Date(train$date): 객체 'train'를 찾을 수 없습니다\nTraceback:\n",
      "1. ifelse((weekdays(as.Date(train$date)) %in% c(\"일요일\", \"토요일\")), \n .     0, 1)",
      "2. weekdays(as.Date(train$date)) %in% c(\"일요일\", \"토요일\")",
      "3. weekdays(as.Date(train$date))",
      "4. as.Date(train$date)"
     ]
    }
   ],
   "source": [
    "# data 컬럼 -> 날짜 -> 주말 평일로 라벨링\n",
    "#train\n",
    "train$weekday = ifelse ( (weekdays(as.Date(train$date)) %in% c('일요일','토요일')), 0,1) # 0 :주말 , 1: 평일\n",
    "train$weekend = ifelse ( (weekdays(as.Date(train$date)) %in% c('일요일','토요일')), 1,0) # 1 :주말 , 0 : 평일\n",
    "train = subset(train,select=-date)\n",
    "\n",
    "#test\n",
    "test$weekday = ifelse ( (weekdays(as.Date(test$date)) %in% c('일요일','토요일')), 0,1) # 0 :주말 , 1: 평일\n",
    "test$weekend = ifelse ( (weekdays(as.Date(test$date)) %in% c('일요일','토요일')), 1,0) # 1 :주말 , 0 : 평일\n",
    "test = subset(test,select=-date)"
   ]
  },
  {
   "cell_type": "markdown",
   "id": "e550cc0d",
   "metadata": {},
   "source": [
    "### 월화수목금토일 라벨링"
   ]
  },
  {
   "cell_type": "code",
   "execution_count": null,
   "id": "c6f9b662",
   "metadata": {},
   "outputs": [],
   "source": [
    "# train\n",
    "otrain$date=as.Date(otrain$date) # 날짜형으로 변환\n",
    "otrain$weekdays = wday(otrain$date) # 요일로 변환\n",
    "train = cbind(train, otrain$weekdays)\n",
    "train = rename(train, \"weekdays\"=\"otrain$weekdays\")\n",
    "head(train)\n",
    "\n",
    "# test\n",
    "otest$date=as.Date(otest$date) # 날짜형으로 변환\n",
    "otest$weekdays = wday(otest$date) # 요일로 변환\n",
    "test = cbind(test, otest$weekdays)\n",
    "test = rename(test, \"weekdays\"=\"otest$weekdays\")\n",
    "head(test)"
   ]
  },
  {
   "cell_type": "markdown",
   "id": "53199b92",
   "metadata": {},
   "source": [
    "### 시내,시외 라벨링"
   ]
  },
  {
   "cell_type": "code",
   "execution_count": 6,
   "id": "4b5bf29c",
   "metadata": {},
   "outputs": [],
   "source": [
    "# in_out 컬럼 -> inout으로 라벨링 \n",
    "#train\n",
    "train$out = ifelse(train$in_out == '시외',1,0)\n",
    "train$inn = ifelse(train$in_out == '시내',1,0)\n",
    "train = subset(train,select=-in_out)\n",
    "\n",
    "#test\n",
    "test$out = ifelse(test$in_out == '시외',1,0)\n",
    "test$inn = ifelse(test$in_out == '시내',1,0)\n",
    "test = subset(test,select=-in_out)"
   ]
  },
  {
   "cell_type": "markdown",
   "id": "6d99da9d",
   "metadata": {},
   "source": [
    "### 승하차,퇴근 시간대 통일하기(승하차 시간을 두시간씩으로 합치기)"
   ]
  },
  {
   "cell_type": "code",
   "execution_count": 8,
   "id": "d3ad7c20",
   "metadata": {},
   "outputs": [],
   "source": [
    "# 승차  하차 시간대 통합하기\n",
    "# train\n",
    "train$ride6_8 = train$X6.7_ride + train$X7.8_ride\n",
    "train$ride8_10 = train$X8.9_ride + train$X9.10_ride\n",
    "train$ride10_12 = train$X10.11_ride + train$X11.12_ride\n",
    "\n",
    "train$off6_8 = train$X6.7_takeoff + train$X7.8_takeoff\n",
    "train$off8_10 = train$X8.9_takeoff+ train$X9.10_takeoff\n",
    "train$off10_12 = train$X10.11_takeoff + train$X11.12_takeoff\n",
    "train = subset(train, select=-c(X6.7_ride, X7.8_ride, X8.9_ride, X9.10_ride,\n",
    "                                X10.11_ride, X11.12_ride, X6.7_takeoff,\n",
    "                                X7.8_takeoff, X8.9_takeoff, X9.10_takeoff,\n",
    "                                X10.11_takeoff, X11.12_takeoff))\n",
    "\n",
    "#test\n",
    "test$ride6_8 = test$X6.7_ride + test$X7.8_ride\n",
    "test$ride8_10 = test$X8.9_ride + test$X9.10_ride\n",
    "test$ride10_12 = test$X10.11_ride + test$X11.12_ride\n",
    "\n",
    "test$off6_8 = test$X6.7_takeoff + test$X7.8_takeoff\n",
    "test$off8_10 = test$X8.9_takeoff+ test$X9.10_takeoff\n",
    "test$off10_12 = test$X10.11_takeoff + test$X11.12_takeoff\n",
    "test = subset(test, select=-c(X6.7_ride, X7.8_ride, X8.9_ride, X9.10_ride,\n",
    "                                X10.11_ride, X11.12_ride, X6.7_takeoff,\n",
    "                                X7.8_takeoff, X8.9_takeoff, X9.10_takeoff,\n",
    "                                X10.11_takeoff, X11.12_takeoff))"
   ]
  },
  {
   "cell_type": "markdown",
   "id": "27781238",
   "metadata": {},
   "source": [
    "### 제주도를 사방으로 나누어 위도, 경도 거리 측정해 컬럼에 추가"
   ]
  },
  {
   "cell_type": "code",
   "execution_count": 13,
   "id": "218c9171",
   "metadata": {},
   "outputs": [],
   "source": [
    "jeju=c(126.52969, 33.51411) # 제주 측정소 근처\n",
    "gosan=c(126.16283, 33.29382) #고산 측정소 근처\n",
    "seongsan=c(126.8802, 33.38677) #성산 측정소 근처\n",
    "po=c(126.5653, 33.24616) #서귀포 측정소 근처"
   ]
  },
  {
   "cell_type": "code",
   "execution_count": 14,
   "id": "7d5112af",
   "metadata": {},
   "outputs": [],
   "source": [
    "library(geosphere)"
   ]
  },
  {
   "cell_type": "code",
   "execution_count": 15,
   "id": "dbc4b4e4",
   "metadata": {},
   "outputs": [],
   "source": [
    "wheretrain = subset(otrain,select=c(latitude, longitude))\n",
    "wheretest = subset(otest,select=c(latitude, longitude))"
   ]
  },
  {
   "cell_type": "code",
   "execution_count": null,
   "id": "d037e973",
   "metadata": {},
   "outputs": [],
   "source": [
    "length(row.names(wheretrain))\n",
    "length(row.names(wheretest))"
   ]
  },
  {
   "cell_type": "code",
   "execution_count": 17,
   "id": "c36e06c0",
   "metadata": {},
   "outputs": [],
   "source": [
    "위도, 경도 \n",
    "for (i in 1:length(row.names(wheretrain)) ) {\n",
    "    # train\n",
    "    train$dist_jeju=distGeo(c(wheretrain$longitude[i], wheretrain$latitude[i]),jeju)\n",
    "    train$dist_gosan=distGeo(c(wheretrain$longitude[i], wheretrain$latitude[i]),gosan)\n",
    "    train$dist_seongsan=distGeo(c(wheretrain$longitude[i], wheretrain$latitude[i]),seongsan)\n",
    "    train$dist_po=distGeo(c(wheretrain$longitude[i], wheretrain$latitude[i]),po)\n",
    "}"
   ]
  },
  {
   "cell_type": "code",
   "execution_count": 18,
   "id": "0877e035",
   "metadata": {},
   "outputs": [],
   "source": [
    "for (i in 1:length(row.names(wheretest)) )\n",
    "{    #test\n",
    "    test$dist_jeju=distGeo(c(wheretest$longitude[i], wheretest$latitude[i]),jeju)\n",
    "    test$dist_gosan=distGeo(c(wheretest$longitude[i], wheretest$latitude[i]),gosan)\n",
    "#     test$dist_seongsan=distGeo(c(wheretest$longitude[i], wheretest$latitude[i]),seongsan)\n",
    "    test$dist_po=distGeo(c(wheretest$longitude[i], wheretest$latitude[i]),po)\n",
    "}"
   ]
  },
  {
   "cell_type": "markdown",
   "id": "0cf46de7",
   "metadata": {},
   "source": [
    "### 사람이 많을 곳으로 예상되는 장소와 정류장의 거리를 측정해 컬럼에 추가"
   ]
  },
  {
   "cell_type": "code",
   "execution_count": 27,
   "id": "2994c320",
   "metadata": {},
   "outputs": [],
   "source": [
    "coords_jejusicheong1 = c( 126.53035,33.49892) #제주시청(광양방면)의 위도 경도\n",
    "coords_jejuairport = c(126.49345,33.50661) #제주국제공항(구제주방면)의 위도 경도\n",
    "coords_hallahosp = c(126.486,33.48963) #한라병원의 위도 경도\n",
    "coords_rotary = c( 126.49678,33.49143) # 제주도청신제주로터리의 위도 경도\n",
    "coords_jejucenterhigh = c(126.5392,33.48902)# 제주중앙여자고등학교의 위도 경도\n",
    "coords_jejumarket = c(126.52706,33.51315 ) #동문시장의 위도 경도\n",
    "coords_jejusclass = c(126.48141,33.47626) #제주고등학교/중흥S클래스의 위도 경도\n",
    "coords_centerroad = c(126.5239,33.51073) #중앙로(국민은행)의 위도 경도\n",
    "coords_fiveway = c( 126.48092,33.48667) # 노형오거리의 위도 경도\n",
    "coords_law = c(126.53476,33.49363) "
   ]
  },
  {
   "cell_type": "code",
   "execution_count": 28,
   "id": "1afa2566",
   "metadata": {},
   "outputs": [],
   "source": [
    "for (i in 1:length(row.names(wheretrain)) ) {\n",
    "    # train\n",
    "    train$dist_jejusicheong1=distGeo(c(wheretrain$longitude[i], wheretrain$latitude[i]),coords_jejusicheong1)\n",
    "    train$dist_jejuairport=distGeo(c(wheretrain$longitude[i], wheretrain$latitude[i]),coords_jejuairport)\n",
    "    train$dist_hallahosp=distGeo(c(wheretrain$longitude[i], wheretrain$latitude[i]),coords_hallahosp)\n",
    "    train$dist_rotary=distGeo(c(wheretrain$longitude[i], wheretrain$latitude[i]),coords_rotary)\n",
    "    train$dist_jejucenterhigh=distGeo(c(wheretrain$longitude[i], wheretrain$latitude[i]),coords_jejucenterhigh)\n",
    "    train$dist_jejumarket=distGeo(c(wheretrain$longitude[i], wheretrain$latitude[i]),coords_jejumarket)\n",
    "    train$dist_jejusclass=distGeo(c(wheretrain$longitude[i], wheretrain$latitude[i]),coords_jejusclass)\n",
    "    train$dist_centerroad=distGeo(c(wheretrain$longitude[i], wheretrain$latitude[i]),coords_centerroad)\n",
    "    train$dist_fiveway=distGeo(c(wheretrain$longitude[i], wheretrain$latitude[i]),coords_fiveway)\n",
    "    train$dist_law=distGeo(c(wheretrain$longitude[i], wheretrain$latitude[i]),coords_law)\n",
    "}"
   ]
  },
  {
   "cell_type": "code",
   "execution_count": 29,
   "id": "baee64a3",
   "metadata": {},
   "outputs": [],
   "source": [
    "for (i in 1:length(row.names(wheretest)) ) {\n",
    "    # test\n",
    "    test$dist_jejusicheong1=distGeo(c(wheretest$longitude[i], wheretest$latitude[i]),coords_jejusicheong1)\n",
    "    test$dist_jejuairport=distGeo(c(wheretest$longitude[i], wheretest$latitude[i]),coords_jejuairport)\n",
    "    test$dist_hallahosp=distGeo(c(wheretest$longitude[i], wheretest$latitude[i]),coords_hallahosp)\n",
    "    test$dist_rotary=distGeo(c(wheretest$longitude[i], wheretest$latitude[i]),coords_rotary)\n",
    "    test$dist_jejucenterhigh=distGeo(c(wheretest$longitude[i], wheretest$latitude[i]),coords_jejucenterhigh)\n",
    "    test$dist_jejumarket=distGeo(c(wheretest$longitude[i], wheretest$latitude[i]),coords_jejumarket)\n",
    "    test$dist_jejusclass=distGeo(c(wheretest$longitude[i], wheretest$latitude[i]),coords_jejusclass)\n",
    "    test$dist_centerroad=distGeo(c(wheretest$longitude[i], wheretest$latitude[i]),coords_centerroad)\n",
    "    test$dist_fiveway=distGeo(c(wheretest$longitude[i], wheretest$latitude[i]),coords_fiveway)\n",
    "    test$dist_law=distGeo(c(wheretest$longitude[i], wheretest$latitude[i]),coords_law)\n",
    "}"
   ]
  },
  {
   "cell_type": "markdown",
   "id": "8bff6990",
   "metadata": {},
   "source": [
    "### 요일별로 몇 명이 타고 내렸는지 컬럼 추가"
   ]
  },
  {
   "cell_type": "code",
   "execution_count": null,
   "id": "84596cee",
   "metadata": {},
   "outputs": [],
   "source": [
    "bts = read.csv('bus_bts.csv', fileEncoding='utf-8')\n",
    "tail(bts)"
   ]
  },
  {
   "cell_type": "code",
   "execution_count": null,
   "id": "b1c3e375",
   "metadata": {},
   "outputs": [],
   "source": [
    "# 요일별로 몇 명 탔는지 : geton_date, user_count(누적ㅎ여함)\n",
    "bts$geton_date = as.Date(bts$geton_date) # 날짜형으로 변환\n",
    "bts$onweekdays = wday(bts$geton_date) # 요일형으로 변환\n",
    "geton_day = aggregate(user_count~onweekdays, bts, sum)\n",
    "geton_day = rename(geton_day, 'on_people'=\"user_count\")\n",
    "\n",
    "# 요일별로 몇 명 내렸는지 : getoff_date, user_count(누적ㅎ여함)\n",
    "bts$getoff_date = as.Date(bts$getoff_date) # 날짜형으로 변환\n",
    "bts$offweekdays = wday(bts$getoff_date) # 요일형으로 변환\n",
    "getoff_day = aggregate(user_count~offweekdays, bts, sum)\n",
    "getoff_day = rename(getoff_day, 'off_people'=\"user_count\")"
   ]
  },
  {
   "cell_type": "code",
   "execution_count": null,
   "id": "f3349e3c",
   "metadata": {},
   "outputs": [],
   "source": [
    "train = merge(train, geton_day, by.x = 'weekdays', by.y='onweekdays')\n",
    "train = merge(train, getoff_day, by.x = 'weekdays', by.y='offweekdays')"
   ]
  },
  {
   "cell_type": "code",
   "execution_count": null,
   "id": "94f556df",
   "metadata": {},
   "outputs": [],
   "source": [
    "test = merge(test, geton_day, by.x = 'weekdays', by.y='onweekdays')\n",
    "test = merge(test, getoff_day, by.x = 'weekdays', by.y='offweekdays')"
   ]
  },
  {
   "cell_type": "markdown",
   "id": "820f39a0",
   "metadata": {},
   "source": [
    "# 머신러닝 돌리면 시간이 너무 오래걸려서 따로 저장"
   ]
  },
  {
   "cell_type": "code",
   "execution_count": 33,
   "id": "2383a8f7",
   "metadata": {},
   "outputs": [],
   "source": [
    "write.csv(train, 'train1.csv',fileEncoding = 'utf-8' )\n",
    "write.csv(test, 'test1.csv', fileEncoding = 'utf-8')"
   ]
  },
  {
   "cell_type": "code",
   "execution_count": null,
   "id": "f60e819e",
   "metadata": {},
   "outputs": [],
   "source": []
  }
 ],
 "metadata": {
  "kernelspec": {
   "display_name": "R",
   "language": "R",
   "name": "ir"
  },
  "language_info": {
   "codemirror_mode": "r",
   "file_extension": ".r",
   "mimetype": "text/x-r-source",
   "name": "R",
   "pygments_lexer": "r",
   "version": "4.1.3"
  }
 },
 "nbformat": 4,
 "nbformat_minor": 5
}
